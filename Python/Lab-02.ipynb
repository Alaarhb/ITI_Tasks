{
 "cells": [
  {
   "cell_type": "markdown",
   "id": "8c4d1e7a-f6a2-473c-9352-f2b22732889e",
   "metadata": {},
   "source": [
    "# **Lab-02**"
   ]
  },
  {
   "cell_type": "markdown",
   "id": "2dce8041-3fc9-49c6-9d91-4f24e5c2f5ae",
   "metadata": {},
   "source": [
    "# **EX1**"
   ]
  },
  {
   "cell_type": "code",
   "execution_count": 5,
   "id": "59416f78-650f-4985-9147-bdf14b5d5bf0",
   "metadata": {},
   "outputs": [
    {
     "name": "stdout",
     "output_type": "stream",
     "text": [
      "[10, 11, 12, 13, 14]\n"
     ]
    }
   ],
   "source": [
    "def generate_array(length, start):\n",
    "    return [start + i for i in range(length)]\n",
    "\n",
    "print(generate_array(5, 10)) "
   ]
  },
  {
   "cell_type": "markdown",
   "id": "51075f72-f588-4ff2-8fd4-1497fe113042",
   "metadata": {},
   "source": [
    "# **EX2**"
   ]
  },
  {
   "cell_type": "code",
   "execution_count": 8,
   "id": "ca5eb12b-7285-42d2-a9e6-d03a568aa056",
   "metadata": {},
   "outputs": [
    {
     "name": "stdout",
     "output_type": "stream",
     "text": [
      "1\n",
      "2\n",
      "Fizz\n",
      "4\n",
      "Buzz\n",
      "Fizz\n",
      "7\n",
      "8\n",
      "Fizz\n",
      "Buzz\n",
      "11\n",
      "Fizz\n",
      "13\n",
      "14\n",
      "FizzBuzz\n",
      "16\n",
      "17\n",
      "Fizz\n",
      "19\n"
     ]
    }
   ],
   "source": [
    "def fizzbuzz(n):\n",
    "    if n % 3 == 0 and n % 5 == 0:\n",
    "        return \"FizzBuzz\"\n",
    "    elif n % 3 == 0:\n",
    "        return \"Fizz\"\n",
    "    elif n % 5 == 0:\n",
    "        return \"Buzz\"\n",
    "    else:\n",
    "        return n\n",
    "\n",
    "for i in range(1, 20):\n",
    "    print(fizzbuzz(i))"
   ]
  },
  {
   "cell_type": "markdown",
   "id": "c1e16f84-dbc9-4336-b355-adb030aaab9f",
   "metadata": {},
   "source": [
    "# **EX3**"
   ]
  },
  {
   "cell_type": "code",
   "execution_count": 11,
   "id": "fcc573bd-04e7-4527-a43a-1c0d13bf2f6a",
   "metadata": {},
   "outputs": [
    {
     "name": "stdout",
     "output_type": "stream",
     "text": [
      "olleh\n"
     ]
    }
   ],
   "source": [
    "def reverse_string(s):\n",
    "    return s[::-1]\n",
    "\n",
    "print(reverse_string(\"hello\"))  "
   ]
  },
  {
   "cell_type": "markdown",
   "id": "39aa4437-5223-4bfa-8581-ecbe1efe83b3",
   "metadata": {},
   "source": [
    "# **EX4**"
   ]
  },
  {
   "cell_type": "code",
   "execution_count": 14,
   "id": "3e854fef-1fce-467c-91f8-d08540b91a6c",
   "metadata": {},
   "outputs": [
    {
     "name": "stdin",
     "output_type": "stream",
     "text": [
      "Enter your name:  Alaa Mohammed Rehab\n"
     ]
    },
    {
     "name": "stdout",
     "output_type": "stream",
     "text": [
      "Invalid name, try again.\n"
     ]
    },
    {
     "name": "stdin",
     "output_type": "stream",
     "text": [
      "Enter your name:  ALAA MOHAMMED REHAB\n"
     ]
    },
    {
     "name": "stdout",
     "output_type": "stream",
     "text": [
      "Invalid name, try again.\n"
     ]
    },
    {
     "name": "stdin",
     "output_type": "stream",
     "text": [
      "Enter your name:  alaa mohammed rehab\n"
     ]
    },
    {
     "name": "stdout",
     "output_type": "stream",
     "text": [
      "Invalid name, try again.\n"
     ]
    },
    {
     "name": "stdin",
     "output_type": "stream",
     "text": [
      "Enter your name:  Alaa\n",
      "Enter your email:  alarrr@gmail.com\n"
     ]
    },
    {
     "name": "stdout",
     "output_type": "stream",
     "text": [
      "Valid email\n",
      "Name: Alaa\n",
      "Email: alarrr@gmail.com\n"
     ]
    }
   ],
   "source": [
    "def user_info():\n",
    "    name = input(\"Enter your name: \").strip()\n",
    "    while not name.isalpha():\n",
    "        print(\"Invalid name, try again.\")\n",
    "        name = input(\"Enter your name: \").strip()\n",
    "\n",
    "    email = input(\"Enter your email: \").strip()\n",
    "\n",
    "    if \"@\" in email and \".\" in email:\n",
    "        print(\"Valid email\")\n",
    "    else:\n",
    "        print(\"Invalid email\")\n",
    "\n",
    "    print(\"Name:\", name)\n",
    "    print(\"Email:\", email)\n",
    "\n",
    "user_info()"
   ]
  },
  {
   "cell_type": "markdown",
   "id": "f906d3df-e57b-429a-83a6-fc1337571460",
   "metadata": {},
   "source": [
    "# **EX5**"
   ]
  },
  {
   "cell_type": "code",
   "execution_count": 17,
   "id": "397f8862-1b64-4943-9fcd-e2278a7d1a78",
   "metadata": {},
   "outputs": [
    {
     "name": "stdout",
     "output_type": "stream",
     "text": [
      "Longest substring in alphabetical order is: abdu\n"
     ]
    }
   ],
   "source": [
    "def longest_alphabetical_substring(s):\n",
    "    longest = current = s[0]\n",
    "\n",
    "    for i in range(1, len(s)):\n",
    "        if s[i] >= s[i-1]:  \n",
    "            current += s[i]\n",
    "            if len(current) > len(longest):\n",
    "                longest = current\n",
    "        else:\n",
    "            current = s[i] \n",
    "    print(\"Longest substring in alphabetical order is:\", longest)\n",
    "\n",
    "longest_alphabetical_substring(\"abdulrahman\")"
   ]
  },
  {
   "cell_type": "markdown",
   "id": "42068f9e-fed3-4dff-806b-9469900678a8",
   "metadata": {},
   "source": [
    "# **EX6**"
   ]
  },
  {
   "cell_type": "code",
   "execution_count": 22,
   "id": "e07a5bf5-13e8-4ce6-9880-4546db22fff0",
   "metadata": {},
   "outputs": [
    {
     "name": "stdin",
     "output_type": "stream",
     "text": [
      "Enter a number (or 'done' to finish):  2\n",
      "Enter a number (or 'done' to finish):  10\n",
      "Enter a number (or 'done' to finish):  15\n",
      "Enter a number (or 'done' to finish):  24\n",
      "Enter a number (or 'done' to finish):  50\n",
      "Enter a number (or 'done' to finish):  done\n"
     ]
    },
    {
     "name": "stdout",
     "output_type": "stream",
     "text": [
      "Total: 101.0\n",
      "Count: 5\n",
      "Average: 20.2\n"
     ]
    }
   ],
   "source": [
    "def read_numbers():\n",
    "    total = 0\n",
    "    count = 0\n",
    " \n",
    "    while True:\n",
    "        user_input = input(\"Enter a number (or 'done' to finish): \")\n",
    "        \n",
    "        if user_input.lower() == \"done\":\n",
    "            break \n",
    "        \n",
    "        try:\n",
    "            number = float(user_input)   \n",
    "            total += number\n",
    "            count += 1\n",
    "        except ValueError:\n",
    "            print(\"Invalid input! Please enter a number.\")\n",
    "    \n",
    "    if count > 0:\n",
    "        average = total / count\n",
    "        print(\"Total:\", total)\n",
    "        print(\"Count:\", count)\n",
    "        print(\"Average:\", average)\n",
    "    else:\n",
    "        print(\"No numbers were entered.\")\n",
    "\n",
    "read_numbers()"
   ]
  },
  {
   "cell_type": "markdown",
   "id": "d72910ea-23d4-47ae-b3d4-09683f9984be",
   "metadata": {},
   "source": [
    "# **EX7**"
   ]
  },
  {
   "cell_type": "code",
   "execution_count": 25,
   "id": "1a30fcf2-df3a-4141-bfbe-be6085851951",
   "metadata": {},
   "outputs": [
    {
     "name": "stdin",
     "output_type": "stream",
     "text": [
      "Enter your name:  Alaa\n"
     ]
    },
    {
     "name": "stdout",
     "output_type": "stream",
     "text": [
      "Welcome Alaa! Let's play Hangman\n",
      "Word: _________\n"
     ]
    },
    {
     "name": "stdin",
     "output_type": "stream",
     "text": [
      "Guess a letter:  L\n"
     ]
    },
    {
     "name": "stdout",
     "output_type": "stream",
     "text": [
      "Correct guess!\n",
      "Word: ____l____\n"
     ]
    },
    {
     "name": "stdin",
     "output_type": "stream",
     "text": [
      "Guess a letter:  S\n"
     ]
    },
    {
     "name": "stdout",
     "output_type": "stream",
     "text": [
      "Wrong guess! Attempts left: 6\n",
      "Word: ____l____\n"
     ]
    },
    {
     "name": "stdin",
     "output_type": "stream",
     "text": [
      "Guess a letter:  A\n"
     ]
    },
    {
     "name": "stdout",
     "output_type": "stream",
     "text": [
      "Wrong guess! Attempts left: 5\n",
      "Word: ____l____\n"
     ]
    },
    {
     "name": "stdin",
     "output_type": "stream",
     "text": [
      "Guess a letter:  a\n"
     ]
    },
    {
     "name": "stdout",
     "output_type": "stream",
     "text": [
      "You already guessed that letter.\n",
      "Word: ____l____\n"
     ]
    },
    {
     "name": "stdin",
     "output_type": "stream",
     "text": [
      "Guess a letter:  l\n"
     ]
    },
    {
     "name": "stdout",
     "output_type": "stream",
     "text": [
      "You already guessed that letter.\n",
      "Word: ____l____\n"
     ]
    },
    {
     "name": "stdin",
     "output_type": "stream",
     "text": [
      "Guess a letter:  A\n"
     ]
    },
    {
     "name": "stdout",
     "output_type": "stream",
     "text": [
      "You already guessed that letter.\n",
      "Word: ____l____\n"
     ]
    },
    {
     "name": "stdin",
     "output_type": "stream",
     "text": [
      "Guess a letter:  Z\n"
     ]
    },
    {
     "name": "stdout",
     "output_type": "stream",
     "text": [
      "Wrong guess! Attempts left: 4\n",
      "Word: ____l____\n"
     ]
    },
    {
     "name": "stdin",
     "output_type": "stream",
     "text": [
      "Guess a letter:  Q\n"
     ]
    },
    {
     "name": "stdout",
     "output_type": "stream",
     "text": [
      "Wrong guess! Attempts left: 3\n",
      "Word: ____l____\n"
     ]
    },
    {
     "name": "stdin",
     "output_type": "stream",
     "text": [
      "Guess a letter:  K\n"
     ]
    },
    {
     "name": "stdout",
     "output_type": "stream",
     "text": [
      "Wrong guess! Attempts left: 2\n",
      "Word: ____l____\n"
     ]
    },
    {
     "name": "stdin",
     "output_type": "stream",
     "text": [
      "Guess a letter:  C\n"
     ]
    },
    {
     "name": "stdout",
     "output_type": "stream",
     "text": [
      "Wrong guess! Attempts left: 1\n",
      "Word: ____l____\n"
     ]
    },
    {
     "name": "stdin",
     "output_type": "stream",
     "text": [
      "Guess a letter:  W\n"
     ]
    },
    {
     "name": "stdout",
     "output_type": "stream",
     "text": [
      "Wrong guess! Attempts left: 0\n",
      "😢 Game Over! The word was: developer\n"
     ]
    }
   ],
   "source": [
    "import random\n",
    "\n",
    "def hangman():\n",
    "    words = [\"python\", \"programming\", \"hangman\", \"developer\", \"computer\"]\n",
    "    word = random.choice(words)\n",
    "    \n",
    "    name = input(\"Enter your name: \")\n",
    "    print(f\"Welcome {name}! Let's play Hangman\")\n",
    "    \n",
    "    guessed_letters = []\n",
    "    attempts = 7\n",
    "    \n",
    "    while attempts > 0:\n",
    "        display_word = \"\"\n",
    "        for letter in word:\n",
    "            if letter in guessed_letters:\n",
    "                display_word += letter\n",
    "            else:\n",
    "                display_word += \"_\"\n",
    "        \n",
    "        print(\"Word:\", display_word)\n",
    "        \n",
    "        if display_word == word:\n",
    "            print(\"Congratulations! You guessed the word:\", word)\n",
    "            break\n",
    "        \n",
    "        guess = input(\"Guess a letter: \").lower()\n",
    "        \n",
    "        if guess.isalpha() and len(guess) == 1:\n",
    "            if guess in guessed_letters:\n",
    "                print(\"You already guessed that letter.\")\n",
    "            elif guess in word:\n",
    "                guessed_letters.append(guess)\n",
    "                print(\"Correct guess!\")\n",
    "            else:\n",
    "                attempts -= 1\n",
    "                guessed_letters.append(guess)\n",
    "                print(\"Wrong guess! Attempts left:\", attempts)\n",
    "        else:\n",
    "            print(\"Please enter a single alphabet letter.\")\n",
    "    \n",
    "    if attempts == 0:\n",
    "        print(\"😢 Game Over! The word was:\", word)\n",
    "\n",
    "\n",
    "\n",
    "hangman()"
   ]
  },
  {
   "cell_type": "code",
   "execution_count": null,
   "id": "7caba423-d7cb-44c3-af46-d36bf708b0c3",
   "metadata": {},
   "outputs": [],
   "source": []
  }
 ],
 "metadata": {
  "kernelspec": {
   "display_name": "Python 3 (ipykernel)",
   "language": "python",
   "name": "python3"
  },
  "language_info": {
   "codemirror_mode": {
    "name": "ipython",
    "version": 3
   },
   "file_extension": ".py",
   "mimetype": "text/x-python",
   "name": "python",
   "nbconvert_exporter": "python",
   "pygments_lexer": "ipython3",
   "version": "3.12.7"
  }
 },
 "nbformat": 4,
 "nbformat_minor": 5
}
