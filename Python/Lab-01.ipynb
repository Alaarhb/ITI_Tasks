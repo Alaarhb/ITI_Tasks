{
 "cells": [
  {
   "cell_type": "markdown",
   "id": "5f5c96c2-21d4-46fd-915b-861795ebdaf9",
   "metadata": {},
   "source": [
    "# **Lab-01**"
   ]
  },
  {
   "cell_type": "markdown",
   "id": "7a14bc06-7ba3-4653-813a-a76e6a0760a0",
   "metadata": {},
   "source": [
    "# **Ex1: Count vowels in a string**"
   ]
  },
  {
   "cell_type": "code",
   "execution_count": 1,
   "id": "ab27393a-e46a-4ca7-8617-a33897663fe9",
   "metadata": {},
   "outputs": [
    {
     "name": "stdout",
     "output_type": "stream",
     "text": [
      "\n",
      "Alternative vowel count: 3\n"
     ]
    }
   ],
   "source": [
    "def count_vowels_alt(text):\n",
    "    return len([char for char in text.lower() if char in \"aeiou\"])\n",
    "\n",
    "print(f\"\\nAlternative vowel count: {count_vowels_alt('Hello World')}\")"
   ]
  },
  {
   "cell_type": "markdown",
   "id": "c6bd3b65-f0c1-4ff1-95b8-e60f74ab03c8",
   "metadata": {},
   "source": [
    "# **Ex2: Fill array with 5 elements, sort in descending and ascending order**"
   ]
  },
  {
   "cell_type": "code",
   "execution_count": 3,
   "id": "6c8cc5a9-f3e6-4fc5-9359-0d633857792b",
   "metadata": {},
   "outputs": [
    {
     "name": "stdout",
     "output_type": "stream",
     "text": [
      "Enter 5 numbers:\n"
     ]
    },
    {
     "name": "stdin",
     "output_type": "stream",
     "text": [
      "Enter number 1:  10\n",
      "Enter number 2:  20\n",
      "Enter number 3:  50\n",
      "Enter number 4:  450\n",
      "Enter number 5:  120\n"
     ]
    },
    {
     "name": "stdout",
     "output_type": "stream",
     "text": [
      "\n",
      "Original array: [10.0, 20.0, 50.0, 450.0, 120.0]\n",
      "Ascending order: [10.0, 20.0, 50.0, 120.0, 450.0]\n",
      "Descending order: [450.0, 120.0, 50.0, 20.0, 10.0]\n",
      "\n"
     ]
    }
   ],
   "source": [
    "def sort_array():\n",
    "    numbers = []\n",
    "    \n",
    "    print(\"Enter 5 numbers:\")\n",
    "    for i in range(5):\n",
    "        num = float(input(f\"Enter number {i+1}: \"))\n",
    "        numbers.append(num)    \n",
    "    \n",
    "    print(f\"\\nOriginal array: {numbers}\")\n",
    "    \n",
    "    asc = sorted(numbers)\n",
    "    print(f\"Ascending order: {asc}\")\n",
    "    \n",
    "    desc = sorted(numbers, reverse=True)\n",
    "    print(f\"Descending order: {desc}\")\n",
    "    print()\n",
    "\n",
    "\n",
    "sort_array()"
   ]
  },
  {
   "cell_type": "markdown",
   "id": "e4c388b2-7268-4a59-b139-81ac79660f40",
   "metadata": {},
   "source": [
    "# **Ex3: Count occurrences of 'iti' in a string**"
   ]
  },
  {
   "cell_type": "code",
   "execution_count": 23,
   "id": "17bb364c-b9d9-41e0-b26e-2a77e249a1e5",
   "metadata": {},
   "outputs": [
    {
     "name": "stdout",
     "output_type": "stream",
     "text": [
      "Alternative 'iti' count: 1\n"
     ]
    }
   ],
   "source": [
    "def count_iti_alt(text):\n",
    "    return text.lower().count(\"iti\")\n",
    "\n",
    "print(f\"Alternative 'iti' count: {count_iti_alt('initiative committee')}\")\n"
   ]
  },
  {
   "cell_type": "markdown",
   "id": "ec8a7982-3375-43b5-8b7c-c487b907a2f4",
   "metadata": {},
   "source": [
    "# **Ex4: Remove all vowels from input word**"
   ]
  },
  {
   "cell_type": "code",
   "execution_count": 18,
   "id": "f5fac6cc-8d64-4a90-b8f9-1751ebcad229",
   "metadata": {},
   "outputs": [
    {
     "name": "stdout",
     "output_type": "stream",
     "text": [
      "Alternative remove vowels: Prgrmmng\n"
     ]
    }
   ],
   "source": [
    "def remove_vowels_alt(word):\n",
    "    return ''.join([char for char in word if char not in \"aeiouAEIOU\"])\n",
    "\n",
    "print(f\"Alternative remove vowels: {remove_vowels_alt('Programming')}\")"
   ]
  },
  {
   "cell_type": "markdown",
   "id": "7c1158cf-ad50-4164-802c-cc7e7f90dec0",
   "metadata": {},
   "source": [
    "# **Ex5: Find locations of \"i\" character in a string**"
   ]
  },
  {
   "cell_type": "code",
   "execution_count": 5,
   "id": "b3b1d1dd-3b5f-4a52-8fcf-42be03d9e2cd",
   "metadata": {},
   "outputs": [
    {
     "name": "stdin",
     "output_type": "stream",
     "text": [
      "Enter a string:  icpc competitive programming\n"
     ]
    },
    {
     "name": "stdout",
     "output_type": "stream",
     "text": [
      "\n",
      "Original string: 'icpc competitive programming'\n",
      "Length of string: 28\n",
      "Character 'i' found at positions: [0, 11, 13, 25]\n",
      "Total occurrences of 'i': 4\n",
      "\n",
      "Verification:\n",
      "  Position 0: 'i'\n",
      "  Position 11: 'i'\n",
      "  Position 13: 'i'\n",
      "  Position 25: 'i'\n"
     ]
    }
   ],
   "source": [
    "def find_i_locations(text):\n",
    "    locations = []\n",
    "    for index, char in enumerate(text):\n",
    "        if char.lower() == 'i':\n",
    "            locations.append(index)\n",
    "    return locations\n",
    "\n",
    "s = input(\"Enter a string: \")\n",
    "idx = find_i_locations(s)\n",
    "\n",
    "print(f\"\\nOriginal string: '{s}'\")\n",
    "print(f\"Length of string: {len(s)}\")\n",
    "\n",
    "if idx:\n",
    "    print(f\"Character 'i' found at positions: {idx}\")\n",
    "    print(f\"Total occurrences of 'i': {len(idx)}\")\n",
    "    \n",
    "    print(\"\\nVerification:\")\n",
    "    for pos in idx:\n",
    "        print(f\"  Position {pos}: '{s[pos]}'\")\n",
    "else:\n",
    "    print(\"Character 'i' not found in the string\")\n"
   ]
  },
  {
   "cell_type": "markdown",
   "id": "43a70bb2-65e3-4e51-b601-0e985723fcf2",
   "metadata": {},
   "source": [
    "# **Ex6: Generate multiplication table from 1 to the number passed**"
   ]
  },
  {
   "cell_type": "code",
   "execution_count": 7,
   "id": "6565383d-2779-4b27-81f1-010565244814",
   "metadata": {},
   "outputs": [
    {
     "name": "stdin",
     "output_type": "stream",
     "text": [
      "Enter a number:  7\n"
     ]
    },
    {
     "name": "stdout",
     "output_type": "stream",
     "text": [
      "\n",
      "Input number: 7\n",
      "Output - List of Lists:\n",
      "[[1], [2, 4], [3, 6, 9], [4, 8, 12, 16], [5, 10, 15, 20, 25], [6, 12, 18, 24, 30, 36], [7, 14, 21, 28, 35, 42, 49]]\n"
     ]
    },
    {
     "name": "stdin",
     "output_type": "stream",
     "text": [
      "\n",
      "Would you like to see detailed multiplication tables? (y/n):  y\n"
     ]
    },
    {
     "name": "stdout",
     "output_type": "stream",
     "text": [
      "\n",
      "Multiplication Tables from 1 to 7\n",
      "\n",
      "Multiplication table for 1:\n",
      "1 ×  1 =   1\n",
      "1 ×  2 =   2\n",
      "1 ×  3 =   3\n",
      "1 ×  4 =   4\n",
      "1 ×  5 =   5\n",
      "1 ×  6 =   6\n",
      "1 ×  7 =   7\n",
      "1 ×  8 =   8\n",
      "1 ×  9 =   9\n",
      "1 × 10 =  10\n",
      "\n",
      "Multiplication table for 2:\n",
      "2 ×  1 =   2\n",
      "2 ×  2 =   4\n",
      "2 ×  3 =   6\n",
      "2 ×  4 =   8\n",
      "2 ×  5 =  10\n",
      "2 ×  6 =  12\n",
      "2 ×  7 =  14\n",
      "2 ×  8 =  16\n",
      "2 ×  9 =  18\n",
      "2 × 10 =  20\n",
      "\n",
      "Multiplication table for 3:\n",
      "3 ×  1 =   3\n",
      "3 ×  2 =   6\n",
      "3 ×  3 =   9\n",
      "3 ×  4 =  12\n",
      "3 ×  5 =  15\n",
      "3 ×  6 =  18\n",
      "3 ×  7 =  21\n",
      "3 ×  8 =  24\n",
      "3 ×  9 =  27\n",
      "3 × 10 =  30\n",
      "\n",
      "Multiplication table for 4:\n",
      "4 ×  1 =   4\n",
      "4 ×  2 =   8\n",
      "4 ×  3 =  12\n",
      "4 ×  4 =  16\n",
      "4 ×  5 =  20\n",
      "4 ×  6 =  24\n",
      "4 ×  7 =  28\n",
      "4 ×  8 =  32\n",
      "4 ×  9 =  36\n",
      "4 × 10 =  40\n",
      "\n",
      "Multiplication table for 5:\n",
      "5 ×  1 =   5\n",
      "5 ×  2 =  10\n",
      "5 ×  3 =  15\n",
      "5 ×  4 =  20\n",
      "5 ×  5 =  25\n",
      "5 ×  6 =  30\n",
      "5 ×  7 =  35\n",
      "5 ×  8 =  40\n",
      "5 ×  9 =  45\n",
      "5 × 10 =  50\n",
      "\n",
      "Multiplication table for 6:\n",
      "6 ×  1 =   6\n",
      "6 ×  2 =  12\n",
      "6 ×  3 =  18\n",
      "6 ×  4 =  24\n",
      "6 ×  5 =  30\n",
      "6 ×  6 =  36\n",
      "6 ×  7 =  42\n",
      "6 ×  8 =  48\n",
      "6 ×  9 =  54\n",
      "6 × 10 =  60\n",
      "\n",
      "Multiplication table for 7:\n",
      "7 ×  1 =   7\n",
      "7 ×  2 =  14\n",
      "7 ×  3 =  21\n",
      "7 ×  4 =  28\n",
      "7 ×  5 =  35\n",
      "7 ×  6 =  42\n",
      "7 ×  7 =  49\n",
      "7 ×  8 =  56\n",
      "7 ×  9 =  63\n",
      "7 × 10 =  70\n"
     ]
    }
   ],
   "source": [
    "def generate_multiplication_table(n):\n",
    "    multiplication_tables = []\n",
    "    \n",
    "    for i in range(1, n + 1):\n",
    "        table = []\n",
    "        for j in range(1, 11):\n",
    "            table.append(i * j)\n",
    "        multiplication_tables.append(table)\n",
    "    \n",
    "    return multiplication_tables\n",
    "\n",
    "def display_multiplication_table(n):\n",
    "    print(f\"\\nMultiplication Tables from 1 to {n}\")\n",
    "    \n",
    "    for i in range(1, n + 1):\n",
    "        print(f\"\\nMultiplication table for {i}:\")\n",
    "        for j in range(1, 11):\n",
    "            result = i * j\n",
    "            print(f\"{i} × {j:2d} = {result:3d}\")\n",
    "\n",
    "try:\n",
    "    number = int(input(\"Enter a number: \"))\n",
    "    \n",
    "    if number <= 0:\n",
    "        print(\"Please enter a positive number!\")\n",
    "    else:\n",
    "       \n",
    "        tables_list = generate_multiplication_table(number)\n",
    "        \n",
    "        print(f\"\\nInput number: {number}\")\n",
    "        print(f\"Output - List of Lists:\")\n",
    "        \n",
    "        formatted_output = []\n",
    "        for i in range(1, number + 1):\n",
    "            table_subset = [i * j for j in range(1, i + 1)]\n",
    "            formatted_output.append(table_subset)\n",
    "        \n",
    "        print(formatted_output)\n",
    "        \n",
    "        display_choice = input(\"\\nWould you like to see detailed multiplication tables? (y/n): \")\n",
    "        if display_choice.lower() == 'y':\n",
    "            display_multiplication_table(number)\n",
    "\n",
    "except ValueError:\n",
    "    print(\"Invalid input! Please enter a valid integer.\")"
   ]
  },
  {
   "cell_type": "markdown",
   "id": "1ef8ae04-0d8c-435f-851d-e0875378b88a",
   "metadata": {},
   "source": [
    "# **Ex7: Mario Pyramid Builder**"
   ]
  },
  {
   "cell_type": "code",
   "execution_count": 38,
   "id": "3df494bb-a5c9-43d4-9ccf-6d2f4b8bffc9",
   "metadata": {},
   "outputs": [
    {
     "name": "stdin",
     "output_type": "stream",
     "text": [
      "Enter the height of the pyramid:  7\n"
     ]
    },
    {
     "name": "stdout",
     "output_type": "stream",
     "text": [
      "\n",
      "Building Mario Pyramid with height 7\n",
      "      *\n",
      "     **\n",
      "    ***\n",
      "   ****\n",
      "  *****\n",
      " ******\n",
      "*******\n",
      "\n",
      "Pyramid as list of strings:\n",
      "Row 1: '      *'\n",
      "Row 2: '     **'\n",
      "Row 3: '    ***'\n",
      "Row 4: '   ****'\n",
      "Row 5: '  *****'\n",
      "Row 6: ' ******'\n",
      "Row 7: '*******'\n"
     ]
    }
   ],
   "source": [
    "def build_mario_pyramid(height):\n",
    "    pyramid_lines = []\n",
    "    \n",
    "    for i in range(1, height + 1):\n",
    "        spaces = \" \" * (height - i)\n",
    "        stars = \"*\" * i\n",
    "        line = spaces + stars\n",
    "        pyramid_lines.append(line)\n",
    "    \n",
    "    return pyramid_lines\n",
    "\n",
    "def print_mario_pyramid(height):\n",
    "    print(f\"\\nBuilding Mario Pyramid with height {height}\")\n",
    "    \n",
    "    pyramid = build_mario_pyramid(height)\n",
    "    \n",
    "    for line in pyramid:\n",
    "        print(line)\n",
    "    \n",
    "    return pyramid\n",
    "\n",
    "try:\n",
    "    pyramid_height = int(input(\"Enter the height of the pyramid: \"))\n",
    "    \n",
    "    if pyramid_height <= 0:\n",
    "        print(\"Please enter a positive number!\")\n",
    "    elif pyramid_height > 20:\n",
    "        print(\"Let's keep it reasonable - maximum height is 20!\")\n",
    "    else:\n",
    "        mario_pyramid = print_mario_pyramid(pyramid_height)\n",
    "        \n",
    "        print(f\"\\nPyramid as list of strings:\")\n",
    "        for i, line in enumerate(mario_pyramid, 1):\n",
    "            print(f\"Row {i}: '{line}'\")\n",
    "\n",
    "except ValueError:\n",
    "    print(\"Invalid input! Please enter a valid integer.\")\n"
   ]
  },
  {
   "cell_type": "code",
   "execution_count": null,
   "id": "98373fea-54fb-4d17-b7d8-5d9463b44712",
   "metadata": {},
   "outputs": [],
   "source": []
  }
 ],
 "metadata": {
  "kernelspec": {
   "display_name": "Python 3 (ipykernel)",
   "language": "python",
   "name": "python3"
  },
  "language_info": {
   "codemirror_mode": {
    "name": "ipython",
    "version": 3
   },
   "file_extension": ".py",
   "mimetype": "text/x-python",
   "name": "python",
   "nbconvert_exporter": "python",
   "pygments_lexer": "ipython3",
   "version": "3.12.7"
  }
 },
 "nbformat": 4,
 "nbformat_minor": 5
}
